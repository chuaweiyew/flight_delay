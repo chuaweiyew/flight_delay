{
 "cells": [
  {
   "cell_type": "markdown",
   "id": "25983b24",
   "metadata": {},
   "source": [
    "# Student Number: 190526948"
   ]
  },
  {
   "cell_type": "code",
   "execution_count": 1,
   "id": "b70e41fb",
   "metadata": {},
   "outputs": [],
   "source": [
    "#Please download the files 2004.csv, 2005.csv, airports.csv, carriers.csv, and plane-data.csv from https://doi.org/10.7910/DVN/HG7NV7\n",
    "#Ensure that you have set your working directory to the location where the files are downloaded."
   ]
  },
  {
   "cell_type": "markdown",
   "id": "d19f4e95",
   "metadata": {},
   "source": [
    "# Q5 Use the available variables to construct a model that predicts delays."
   ]
  },
  {
   "cell_type": "code",
   "execution_count": 2,
   "id": "443554f7",
   "metadata": {},
   "outputs": [],
   "source": [
    "import sqlite3\n",
    "import pandas as pd\n",
    "import os"
   ]
  },
  {
   "cell_type": "code",
   "execution_count": 3,
   "id": "410d57c6",
   "metadata": {},
   "outputs": [],
   "source": [
    "# IMPORTANT NOTE\n",
    "# Note that your path to the database may be different\n",
    "try:\n",
    "    os.remove('F:/School/Year_3/ST2195/Course_Work/Data/airline2_python.db')\n",
    "except OSError:\n",
    "    pass\n"
   ]
  },
  {
   "cell_type": "code",
   "execution_count": 5,
   "id": "2835addc",
   "metadata": {},
   "outputs": [
    {
     "ename": "ValueError",
     "evalue": "Table 'airports' already exists.",
     "output_type": "error",
     "traceback": [
      "\u001b[1;31m---------------------------------------------------------------------------\u001b[0m",
      "\u001b[1;31mValueError\u001b[0m                                Traceback (most recent call last)",
      "\u001b[1;32m<ipython-input-5-f3d8ec4b4f78>\u001b[0m in \u001b[0;36m<module>\u001b[1;34m\u001b[0m\n\u001b[0;32m      6\u001b[0m \u001b[0mplanes\u001b[0m \u001b[1;33m=\u001b[0m \u001b[0mpd\u001b[0m\u001b[1;33m.\u001b[0m\u001b[0mread_csv\u001b[0m\u001b[1;33m(\u001b[0m\u001b[1;34m\"F:/School/Year_3/ST2195/Course_Work/Data/plane-data.csv\"\u001b[0m\u001b[1;33m)\u001b[0m\u001b[1;33m\u001b[0m\u001b[1;33m\u001b[0m\u001b[0m\n\u001b[0;32m      7\u001b[0m \u001b[1;33m\u001b[0m\u001b[0m\n\u001b[1;32m----> 8\u001b[1;33m \u001b[0mairports\u001b[0m\u001b[1;33m.\u001b[0m\u001b[0mto_sql\u001b[0m\u001b[1;33m(\u001b[0m\u001b[1;34m'airports'\u001b[0m\u001b[1;33m,\u001b[0m \u001b[0mcon\u001b[0m \u001b[1;33m=\u001b[0m \u001b[0mconn\u001b[0m\u001b[1;33m,\u001b[0m \u001b[0mindex\u001b[0m \u001b[1;33m=\u001b[0m \u001b[1;32mFalse\u001b[0m\u001b[1;33m)\u001b[0m\u001b[1;33m\u001b[0m\u001b[1;33m\u001b[0m\u001b[0m\n\u001b[0m\u001b[0;32m      9\u001b[0m \u001b[0mcarriers\u001b[0m\u001b[1;33m.\u001b[0m\u001b[0mto_sql\u001b[0m\u001b[1;33m(\u001b[0m\u001b[1;34m'carriers'\u001b[0m\u001b[1;33m,\u001b[0m \u001b[0mcon\u001b[0m \u001b[1;33m=\u001b[0m \u001b[0mconn\u001b[0m\u001b[1;33m,\u001b[0m \u001b[0mindex\u001b[0m \u001b[1;33m=\u001b[0m \u001b[1;32mFalse\u001b[0m\u001b[1;33m)\u001b[0m\u001b[1;33m\u001b[0m\u001b[1;33m\u001b[0m\u001b[0m\n\u001b[0;32m     10\u001b[0m \u001b[0mplanes\u001b[0m\u001b[1;33m.\u001b[0m\u001b[0mto_sql\u001b[0m\u001b[1;33m(\u001b[0m\u001b[1;34m'planes'\u001b[0m\u001b[1;33m,\u001b[0m \u001b[0mcon\u001b[0m \u001b[1;33m=\u001b[0m \u001b[0mconn\u001b[0m\u001b[1;33m,\u001b[0m \u001b[0mindex\u001b[0m \u001b[1;33m=\u001b[0m \u001b[1;32mFalse\u001b[0m\u001b[1;33m)\u001b[0m\u001b[1;33m\u001b[0m\u001b[1;33m\u001b[0m\u001b[0m\n",
      "\u001b[1;32mH:\\anaconda3\\lib\\site-packages\\pandas\\core\\generic.py\u001b[0m in \u001b[0;36mto_sql\u001b[1;34m(self, name, con, schema, if_exists, index, index_label, chunksize, dtype, method)\u001b[0m\n\u001b[0;32m   2777\u001b[0m         \u001b[1;32mfrom\u001b[0m \u001b[0mpandas\u001b[0m\u001b[1;33m.\u001b[0m\u001b[0mio\u001b[0m \u001b[1;32mimport\u001b[0m \u001b[0msql\u001b[0m\u001b[1;33m\u001b[0m\u001b[1;33m\u001b[0m\u001b[0m\n\u001b[0;32m   2778\u001b[0m \u001b[1;33m\u001b[0m\u001b[0m\n\u001b[1;32m-> 2779\u001b[1;33m         sql.to_sql(\n\u001b[0m\u001b[0;32m   2780\u001b[0m             \u001b[0mself\u001b[0m\u001b[1;33m,\u001b[0m\u001b[1;33m\u001b[0m\u001b[1;33m\u001b[0m\u001b[0m\n\u001b[0;32m   2781\u001b[0m             \u001b[0mname\u001b[0m\u001b[1;33m,\u001b[0m\u001b[1;33m\u001b[0m\u001b[1;33m\u001b[0m\u001b[0m\n",
      "\u001b[1;32mH:\\anaconda3\\lib\\site-packages\\pandas\\io\\sql.py\u001b[0m in \u001b[0;36mto_sql\u001b[1;34m(frame, name, con, schema, if_exists, index, index_label, chunksize, dtype, method)\u001b[0m\n\u001b[0;32m    599\u001b[0m         )\n\u001b[0;32m    600\u001b[0m \u001b[1;33m\u001b[0m\u001b[0m\n\u001b[1;32m--> 601\u001b[1;33m     pandas_sql.to_sql(\n\u001b[0m\u001b[0;32m    602\u001b[0m         \u001b[0mframe\u001b[0m\u001b[1;33m,\u001b[0m\u001b[1;33m\u001b[0m\u001b[1;33m\u001b[0m\u001b[0m\n\u001b[0;32m    603\u001b[0m         \u001b[0mname\u001b[0m\u001b[1;33m,\u001b[0m\u001b[1;33m\u001b[0m\u001b[1;33m\u001b[0m\u001b[0m\n",
      "\u001b[1;32mH:\\anaconda3\\lib\\site-packages\\pandas\\io\\sql.py\u001b[0m in \u001b[0;36mto_sql\u001b[1;34m(self, frame, name, if_exists, index, index_label, schema, chunksize, dtype, method)\u001b[0m\n\u001b[0;32m   1869\u001b[0m             \u001b[0mdtype\u001b[0m\u001b[1;33m=\u001b[0m\u001b[0mdtype\u001b[0m\u001b[1;33m,\u001b[0m\u001b[1;33m\u001b[0m\u001b[1;33m\u001b[0m\u001b[0m\n\u001b[0;32m   1870\u001b[0m         )\n\u001b[1;32m-> 1871\u001b[1;33m         \u001b[0mtable\u001b[0m\u001b[1;33m.\u001b[0m\u001b[0mcreate\u001b[0m\u001b[1;33m(\u001b[0m\u001b[1;33m)\u001b[0m\u001b[1;33m\u001b[0m\u001b[1;33m\u001b[0m\u001b[0m\n\u001b[0m\u001b[0;32m   1872\u001b[0m         \u001b[0mtable\u001b[0m\u001b[1;33m.\u001b[0m\u001b[0minsert\u001b[0m\u001b[1;33m(\u001b[0m\u001b[0mchunksize\u001b[0m\u001b[1;33m,\u001b[0m \u001b[0mmethod\u001b[0m\u001b[1;33m)\u001b[0m\u001b[1;33m\u001b[0m\u001b[1;33m\u001b[0m\u001b[0m\n\u001b[0;32m   1873\u001b[0m \u001b[1;33m\u001b[0m\u001b[0m\n",
      "\u001b[1;32mH:\\anaconda3\\lib\\site-packages\\pandas\\io\\sql.py\u001b[0m in \u001b[0;36mcreate\u001b[1;34m(self)\u001b[0m\n\u001b[0;32m    736\u001b[0m         \u001b[1;32mif\u001b[0m \u001b[0mself\u001b[0m\u001b[1;33m.\u001b[0m\u001b[0mexists\u001b[0m\u001b[1;33m(\u001b[0m\u001b[1;33m)\u001b[0m\u001b[1;33m:\u001b[0m\u001b[1;33m\u001b[0m\u001b[1;33m\u001b[0m\u001b[0m\n\u001b[0;32m    737\u001b[0m             \u001b[1;32mif\u001b[0m \u001b[0mself\u001b[0m\u001b[1;33m.\u001b[0m\u001b[0mif_exists\u001b[0m \u001b[1;33m==\u001b[0m \u001b[1;34m\"fail\"\u001b[0m\u001b[1;33m:\u001b[0m\u001b[1;33m\u001b[0m\u001b[1;33m\u001b[0m\u001b[0m\n\u001b[1;32m--> 738\u001b[1;33m                 \u001b[1;32mraise\u001b[0m \u001b[0mValueError\u001b[0m\u001b[1;33m(\u001b[0m\u001b[1;34mf\"Table '{self.name}' already exists.\"\u001b[0m\u001b[1;33m)\u001b[0m\u001b[1;33m\u001b[0m\u001b[1;33m\u001b[0m\u001b[0m\n\u001b[0m\u001b[0;32m    739\u001b[0m             \u001b[1;32melif\u001b[0m \u001b[0mself\u001b[0m\u001b[1;33m.\u001b[0m\u001b[0mif_exists\u001b[0m \u001b[1;33m==\u001b[0m \u001b[1;34m\"replace\"\u001b[0m\u001b[1;33m:\u001b[0m\u001b[1;33m\u001b[0m\u001b[1;33m\u001b[0m\u001b[0m\n\u001b[0;32m    740\u001b[0m                 \u001b[0mself\u001b[0m\u001b[1;33m.\u001b[0m\u001b[0mpd_sql\u001b[0m\u001b[1;33m.\u001b[0m\u001b[0mdrop_table\u001b[0m\u001b[1;33m(\u001b[0m\u001b[0mself\u001b[0m\u001b[1;33m.\u001b[0m\u001b[0mname\u001b[0m\u001b[1;33m,\u001b[0m \u001b[0mself\u001b[0m\u001b[1;33m.\u001b[0m\u001b[0mschema\u001b[0m\u001b[1;33m)\u001b[0m\u001b[1;33m\u001b[0m\u001b[1;33m\u001b[0m\u001b[0m\n",
      "\u001b[1;31mValueError\u001b[0m: Table 'airports' already exists."
     ]
    }
   ],
   "source": [
    "# Note that your path to the database may be different \n",
    "conn = sqlite3.connect('F:/School/Year_3/ST2195/Course_Work/Data/airline2_python.db')\n",
    "# Note that your path to the data may be different \n",
    "airports = pd.read_csv(\"F:/School/Year_3/ST2195/Course_Work/Data/airports.csv\")\n",
    "carriers = pd.read_csv(\"F:/School/Year_3/ST2195/Course_Work/Data/carriers.csv\")\n",
    "planes = pd.read_csv(\"F:/School/Year_3/ST2195/Course_Work/Data/plane-data.csv\")\n",
    "\n",
    "airports.to_sql('airports', con = conn, index = False)\n",
    "carriers.to_sql('carriers', con = conn, index = False)\n",
    "planes.to_sql('planes', con = conn, index = False)\n",
    "\n",
    "c = conn.cursor()"
   ]
  },
  {
   "cell_type": "code",
   "execution_count": null,
   "id": "614d33c7",
   "metadata": {},
   "outputs": [],
   "source": [
    "c.execute('''\n",
    "CREATE TABLE ontime (\n",
    "  Year int,\n",
    "  Month int,\n",
    "  DayofMonth int,\n",
    "  DayOfWeek int,\n",
    "  DepTime  int,\n",
    "  CRSDepTime int,\n",
    "  ArrTime int,\n",
    "  CRSArrTime int,\n",
    "  UniqueCarrier varchar(5),\n",
    "  FlightNum int,\n",
    "  TailNum varchar(8),\n",
    "  ActualElapsedTime int,\n",
    "  CRSElapsedTime int,\n",
    "  AirTime int,\n",
    "  ArrDelay int,\n",
    "  DepDelay int,\n",
    "  Origin varchar(3),\n",
    "  Dest varchar(3),\n",
    "  Distance int,\n",
    "  TaxiIn int,\n",
    "  TaxiOut int,\n",
    "  Cancelled int,\n",
    "  CancellationCode varchar(1),\n",
    "  Diverted varchar(1),\n",
    "  CarrierDelay int,\n",
    "  WeatherDelay int,\n",
    "  NASDelay int,\n",
    "  SecurityDelay int,\n",
    "  LateAircraftDelay int\n",
    ")\n",
    "''')\n",
    "\n",
    "conn.commit()"
   ]
  },
  {
   "cell_type": "code",
   "execution_count": null,
   "id": "eb2742a1",
   "metadata": {},
   "outputs": [],
   "source": [
    "for year in range(2004, 2006):\n",
    "    print('Processing: ', year)\n",
    "    ontime = pd.read_csv(\"F:/School/Year_3/ST2195/Course_Work/Data/\"+str(year)+\".csv\")    \n",
    "    ontime.to_sql('ontime', con = conn, if_exists = 'append', index = False)\n",
    "\n",
    "conn.commit()"
   ]
  },
  {
   "cell_type": "code",
   "execution_count": 6,
   "id": "05068a8d",
   "metadata": {},
   "outputs": [],
   "source": [
    "ontime_db = pd.read_sql('SELECT * FROM ontime', conn)"
   ]
  },
  {
   "cell_type": "code",
   "execution_count": 7,
   "id": "a1e76083",
   "metadata": {},
   "outputs": [
    {
     "data": {
      "text/plain": [
       "Year                        0\n",
       "Month                       0\n",
       "DayofMonth                  0\n",
       "DayOfWeek                   0\n",
       "DepTime                261487\n",
       "CRSDepTime                  0\n",
       "ArrTime                289299\n",
       "CRSArrTime                  0\n",
       "UniqueCarrier               0\n",
       "FlightNum                   0\n",
       "TailNum                   127\n",
       "ActualElapsedTime      289299\n",
       "CRSElapsedTime              0\n",
       "AirTime                289299\n",
       "ArrDelay               289299\n",
       "DepDelay               261487\n",
       "Origin                      0\n",
       "Dest                        0\n",
       "Distance                    0\n",
       "TaxiIn                      0\n",
       "TaxiOut                     0\n",
       "Cancelled                   0\n",
       "CancellationCode     14008371\n",
       "Diverted                    0\n",
       "CarrierDelay                0\n",
       "WeatherDelay                0\n",
       "NASDelay                    0\n",
       "SecurityDelay               0\n",
       "LateAircraftDelay           0\n",
       "dtype: int64"
      ]
     },
     "execution_count": 7,
     "metadata": {},
     "output_type": "execute_result"
    }
   ],
   "source": [
    "import numpy as np\n",
    "ontime_db.shape\n",
    "ontime_db.isnull().sum()\n",
    "ontime_db.isnull().sum()"
   ]
  },
  {
   "cell_type": "code",
   "execution_count": 8,
   "id": "624c1885",
   "metadata": {},
   "outputs": [
    {
     "name": "stderr",
     "output_type": "stream",
     "text": [
      "<ipython-input-8-b427e5fe1a05>:3: UserWarning: Boolean Series key will be reindexed to match DataFrame index.\n",
      "  ontime_db_2004 = ontime_db_2004[ontime_db['Month']==1]\n",
      "<ipython-input-8-b427e5fe1a05>:5: SettingWithCopyWarning: \n",
      "A value is trying to be set on a copy of a slice from a DataFrame.\n",
      "Try using .loc[row_indexer,col_indexer] = value instead\n",
      "\n",
      "See the caveats in the documentation: https://pandas.pydata.org/pandas-docs/stable/user_guide/indexing.html#returning-a-view-versus-a-copy\n",
      "  ontime_db_2004['Delay'] = np.where(ontime_db_2004['DepDelay'] >=15, 1, 0 )\n"
     ]
    }
   ],
   "source": [
    "ontime_db_2004 = ontime_db.copy()\n",
    "ontime_db_2004 = ontime_db_2004[ontime_db_2004['Year'] != 2005]\n",
    "ontime_db_2004 = ontime_db_2004[ontime_db['Month']==1]\n",
    "ontime_db_2004 = ontime_db[ontime_db['Cancelled'] != 1]\n",
    "ontime_db_2004['Delay'] = np.where(ontime_db_2004['DepDelay'] >=15, 1, 0 )\n",
    "ontime_db_2004_10 = (ontime_db_2004.Origin.value_counts()).head(10)\n",
    "ontime_db_2004 = ontime_db_2004[ontime_db_2004['Origin'].isin(['ORD','ATL','DFW','LAX','CVG','IAH','PHX','LAS','DEN','EWR'])]"
   ]
  },
  {
   "cell_type": "code",
   "execution_count": 9,
   "id": "9f630047",
   "metadata": {},
   "outputs": [],
   "source": [
    "features = ontime_db_2004[['Delay','Month', 'DayOfWeek', 'DayofMonth', 'Origin', 'CRSDepTime','CarrierDelay', 'WeatherDelay',\n",
    "                           'NASDelay', 'SecurityDelay','LateAircraftDelay']]"
   ]
  },
  {
   "cell_type": "code",
   "execution_count": 10,
   "id": "2101ebc0",
   "metadata": {},
   "outputs": [
    {
     "name": "stdout",
     "output_type": "stream",
     "text": [
      "                      Delay     Month  DayOfWeek  DayofMonth  CRSDepTime  \\\n",
      "Delay              1.000000  0.010610  -0.001378    0.023247    0.178854   \n",
      "Month              0.010610  1.000000  -0.003906    0.008384   -0.005435   \n",
      "DayOfWeek         -0.001378 -0.003906   1.000000   -0.004110    0.004175   \n",
      "DayofMonth         0.023247  0.008384  -0.004110    1.000000   -0.001143   \n",
      "CRSDepTime         0.178854 -0.005435   0.004175   -0.001143    1.000000   \n",
      "CarrierDelay       0.392349  0.006101   0.005907    0.008421    0.047467   \n",
      "WeatherDelay       0.192272 -0.000796  -0.007404    0.008350    0.055304   \n",
      "NASDelay           0.206102 -0.006109  -0.022660    0.010317    0.034560   \n",
      "SecurityDelay      0.033144  0.001230   0.005975    0.002234    0.000165   \n",
      "LateAircraftDelay  0.439457  0.002995  -0.010935    0.011963    0.137995   \n",
      "\n",
      "                   CarrierDelay  WeatherDelay  NASDelay  SecurityDelay  \\\n",
      "Delay                  0.392349      0.192272  0.206102       0.033144   \n",
      "Month                  0.006101     -0.000796 -0.006109       0.001230   \n",
      "DayOfWeek              0.005907     -0.007404 -0.022660       0.005975   \n",
      "DayofMonth             0.008421      0.008350  0.010317       0.002234   \n",
      "CRSDepTime             0.047467      0.055304  0.034560       0.000165   \n",
      "CarrierDelay           1.000000     -0.011426  0.030826      -0.003510   \n",
      "WeatherDelay          -0.011426      1.000000  0.059001      -0.001664   \n",
      "NASDelay               0.030826      0.059001  1.000000       0.002788   \n",
      "SecurityDelay         -0.003510     -0.001664  0.002788       1.000000   \n",
      "LateAircraftDelay      0.041098      0.047114  0.071884       0.001221   \n",
      "\n",
      "                   LateAircraftDelay  \n",
      "Delay                       0.439457  \n",
      "Month                       0.002995  \n",
      "DayOfWeek                  -0.010935  \n",
      "DayofMonth                  0.011963  \n",
      "CRSDepTime                  0.137995  \n",
      "CarrierDelay                0.041098  \n",
      "WeatherDelay                0.047114  \n",
      "NASDelay                    0.071884  \n",
      "SecurityDelay               0.001221  \n",
      "LateAircraftDelay           1.000000  \n"
     ]
    },
    {
     "data": {
      "text/html": [
       "<div>\n",
       "<style scoped>\n",
       "    .dataframe tbody tr th:only-of-type {\n",
       "        vertical-align: middle;\n",
       "    }\n",
       "\n",
       "    .dataframe tbody tr th {\n",
       "        vertical-align: top;\n",
       "    }\n",
       "\n",
       "    .dataframe thead th {\n",
       "        text-align: right;\n",
       "    }\n",
       "</style>\n",
       "<table border=\"1\" class=\"dataframe\">\n",
       "  <thead>\n",
       "    <tr style=\"text-align: right;\">\n",
       "      <th></th>\n",
       "      <th>Delay</th>\n",
       "      <th>Month</th>\n",
       "      <th>DayOfWeek</th>\n",
       "      <th>DayofMonth</th>\n",
       "      <th>CRSDepTime</th>\n",
       "      <th>CarrierDelay</th>\n",
       "      <th>WeatherDelay</th>\n",
       "      <th>NASDelay</th>\n",
       "      <th>SecurityDelay</th>\n",
       "      <th>LateAircraftDelay</th>\n",
       "      <th>Origin_ATL</th>\n",
       "      <th>Origin_CVG</th>\n",
       "      <th>Origin_DEN</th>\n",
       "      <th>Origin_DFW</th>\n",
       "      <th>Origin_EWR</th>\n",
       "      <th>Origin_IAH</th>\n",
       "      <th>Origin_LAS</th>\n",
       "      <th>Origin_LAX</th>\n",
       "      <th>Origin_ORD</th>\n",
       "      <th>Origin_PHX</th>\n",
       "    </tr>\n",
       "  </thead>\n",
       "  <tbody>\n",
       "    <tr>\n",
       "      <th>0</th>\n",
       "      <td>0</td>\n",
       "      <td>1</td>\n",
       "      <td>1</td>\n",
       "      <td>12</td>\n",
       "      <td>630</td>\n",
       "      <td>0</td>\n",
       "      <td>0</td>\n",
       "      <td>0</td>\n",
       "      <td>0</td>\n",
       "      <td>0</td>\n",
       "      <td>0</td>\n",
       "      <td>0</td>\n",
       "      <td>0</td>\n",
       "      <td>0</td>\n",
       "      <td>0</td>\n",
       "      <td>0</td>\n",
       "      <td>0</td>\n",
       "      <td>0</td>\n",
       "      <td>1</td>\n",
       "      <td>0</td>\n",
       "    </tr>\n",
       "    <tr>\n",
       "      <th>1</th>\n",
       "      <td>0</td>\n",
       "      <td>1</td>\n",
       "      <td>2</td>\n",
       "      <td>13</td>\n",
       "      <td>630</td>\n",
       "      <td>0</td>\n",
       "      <td>0</td>\n",
       "      <td>0</td>\n",
       "      <td>0</td>\n",
       "      <td>0</td>\n",
       "      <td>0</td>\n",
       "      <td>0</td>\n",
       "      <td>0</td>\n",
       "      <td>0</td>\n",
       "      <td>0</td>\n",
       "      <td>0</td>\n",
       "      <td>0</td>\n",
       "      <td>0</td>\n",
       "      <td>1</td>\n",
       "      <td>0</td>\n",
       "    </tr>\n",
       "    <tr>\n",
       "      <th>2</th>\n",
       "      <td>0</td>\n",
       "      <td>1</td>\n",
       "      <td>3</td>\n",
       "      <td>14</td>\n",
       "      <td>630</td>\n",
       "      <td>0</td>\n",
       "      <td>0</td>\n",
       "      <td>0</td>\n",
       "      <td>0</td>\n",
       "      <td>0</td>\n",
       "      <td>0</td>\n",
       "      <td>0</td>\n",
       "      <td>0</td>\n",
       "      <td>0</td>\n",
       "      <td>0</td>\n",
       "      <td>0</td>\n",
       "      <td>0</td>\n",
       "      <td>0</td>\n",
       "      <td>1</td>\n",
       "      <td>0</td>\n",
       "    </tr>\n",
       "    <tr>\n",
       "      <th>3</th>\n",
       "      <td>0</td>\n",
       "      <td>1</td>\n",
       "      <td>4</td>\n",
       "      <td>15</td>\n",
       "      <td>630</td>\n",
       "      <td>0</td>\n",
       "      <td>0</td>\n",
       "      <td>0</td>\n",
       "      <td>0</td>\n",
       "      <td>0</td>\n",
       "      <td>0</td>\n",
       "      <td>0</td>\n",
       "      <td>0</td>\n",
       "      <td>0</td>\n",
       "      <td>0</td>\n",
       "      <td>0</td>\n",
       "      <td>0</td>\n",
       "      <td>0</td>\n",
       "      <td>1</td>\n",
       "      <td>0</td>\n",
       "    </tr>\n",
       "    <tr>\n",
       "      <th>4</th>\n",
       "      <td>0</td>\n",
       "      <td>1</td>\n",
       "      <td>5</td>\n",
       "      <td>16</td>\n",
       "      <td>630</td>\n",
       "      <td>0</td>\n",
       "      <td>0</td>\n",
       "      <td>0</td>\n",
       "      <td>0</td>\n",
       "      <td>0</td>\n",
       "      <td>0</td>\n",
       "      <td>0</td>\n",
       "      <td>0</td>\n",
       "      <td>0</td>\n",
       "      <td>0</td>\n",
       "      <td>0</td>\n",
       "      <td>0</td>\n",
       "      <td>0</td>\n",
       "      <td>1</td>\n",
       "      <td>0</td>\n",
       "    </tr>\n",
       "  </tbody>\n",
       "</table>\n",
       "</div>"
      ],
      "text/plain": [
       "   Delay  Month  DayOfWeek  DayofMonth  CRSDepTime  CarrierDelay  \\\n",
       "0      0      1          1          12         630             0   \n",
       "1      0      1          2          13         630             0   \n",
       "2      0      1          3          14         630             0   \n",
       "3      0      1          4          15         630             0   \n",
       "4      0      1          5          16         630             0   \n",
       "\n",
       "   WeatherDelay  NASDelay  SecurityDelay  LateAircraftDelay  Origin_ATL  \\\n",
       "0             0         0              0                  0           0   \n",
       "1             0         0              0                  0           0   \n",
       "2             0         0              0                  0           0   \n",
       "3             0         0              0                  0           0   \n",
       "4             0         0              0                  0           0   \n",
       "\n",
       "   Origin_CVG  Origin_DEN  Origin_DFW  Origin_EWR  Origin_IAH  Origin_LAS  \\\n",
       "0           0           0           0           0           0           0   \n",
       "1           0           0           0           0           0           0   \n",
       "2           0           0           0           0           0           0   \n",
       "3           0           0           0           0           0           0   \n",
       "4           0           0           0           0           0           0   \n",
       "\n",
       "   Origin_LAX  Origin_ORD  Origin_PHX  \n",
       "0           0           1           0  \n",
       "1           0           1           0  \n",
       "2           0           1           0  \n",
       "3           0           1           0  \n",
       "4           0           1           0  "
      ]
     },
     "execution_count": 10,
     "metadata": {},
     "output_type": "execute_result"
    }
   ],
   "source": [
    "corrMatrix = features.corr()\n",
    "print (corrMatrix)\n",
    "features = pd.get_dummies(features, columns=['Origin'])\n",
    "features.head()"
   ]
  },
  {
   "cell_type": "code",
   "execution_count": 11,
   "id": "1f46c758",
   "metadata": {},
   "outputs": [],
   "source": [
    "from sklearn.model_selection import train_test_split\n",
    "train_x, test_x, train_y, test_y = train_test_split(features.drop('Delay', axis=1),\n",
    "                                                    features['Delay'], test_size=0.3, random_state=42)"
   ]
  },
  {
   "cell_type": "code",
   "execution_count": 12,
   "id": "97790669",
   "metadata": {},
   "outputs": [
    {
     "data": {
      "text/plain": [
       "(1423468, 19)"
      ]
     },
     "execution_count": 12,
     "metadata": {},
     "output_type": "execute_result"
    }
   ],
   "source": [
    "len(test_x)\n",
    "train_x.shape\n",
    "test_x.shape"
   ]
  },
  {
   "cell_type": "code",
   "execution_count": 13,
   "id": "cef835d9",
   "metadata": {},
   "outputs": [
    {
     "data": {
      "text/plain": [
       "0.9440226264306609"
      ]
     },
     "execution_count": 13,
     "metadata": {},
     "output_type": "execute_result"
    }
   ],
   "source": [
    "from sklearn.ensemble import RandomForestClassifier\n",
    "model = RandomForestClassifier(random_state=13, n_estimators=100)\n",
    "model.fit(train_x, train_y)\n",
    "model.score(test_x, test_y)"
   ]
  },
  {
   "cell_type": "code",
   "execution_count": 14,
   "id": "a5a12103",
   "metadata": {},
   "outputs": [
    {
     "data": {
      "text/plain": [
       "array([[0.        , 1.        ],\n",
       "       [0.82      , 0.18      ],\n",
       "       [0.89395238, 0.10604762],\n",
       "       ...,\n",
       "       [0.82317857, 0.17682143],\n",
       "       [1.        , 0.        ],\n",
       "       [0.9875    , 0.0125    ]])"
      ]
     },
     "execution_count": 14,
     "metadata": {},
     "output_type": "execute_result"
    }
   ],
   "source": [
    "probabilities = model.predict_proba(test_x)\n",
    "probabilities"
   ]
  },
  {
   "cell_type": "code",
   "execution_count": 15,
   "id": "76cf1b4a",
   "metadata": {},
   "outputs": [
    {
     "data": {
      "text/plain": [
       "array([[1119996,   25956],\n",
       "       [  53726,  223790]], dtype=int64)"
      ]
     },
     "execution_count": 15,
     "metadata": {},
     "output_type": "execute_result"
    }
   ],
   "source": [
    "from sklearn.metrics import confusion_matrix\n",
    "y_predicted = model.predict(test_x)\n",
    "cm = confusion_matrix(test_y, y_predicted)\n",
    "cm"
   ]
  },
  {
   "cell_type": "code",
   "execution_count": 16,
   "id": "840a6027",
   "metadata": {},
   "outputs": [
    {
     "data": {
      "text/plain": [
       "Text(69.0, 0.5, 'truth')"
      ]
     },
     "execution_count": 16,
     "metadata": {},
     "output_type": "execute_result"
    },
    {
     "data": {
      "image/png": "[encoded data removed]",
      "text/plain": [
       "<Figure size 720x504 with 2 Axes>"
      ]
     },
     "metadata": {
      "needs_background": "light"
     },
     "output_type": "display_data"
    }
   ],
   "source": [
    "import matplotlib.pyplot as plt\n",
    "import seaborn as sns\n",
    "plt.figure(figsize=(10,7))\n",
    "sns.heatmap(cm, annot=True)\n",
    "plt.xlabel('predicted')\n",
    "plt.ylabel('truth')"
   ]
  },
  {
   "cell_type": "code",
   "execution_count": 17,
   "id": "955594dc",
   "metadata": {},
   "outputs": [
    {
     "data": {
      "text/plain": [
       "0.9921810768637057"
      ]
     },
     "execution_count": 17,
     "metadata": {},
     "output_type": "execute_result"
    }
   ],
   "source": [
    "from sklearn.metrics import precision_score\n",
    "train_predictions = model.predict(train_x)\n",
    "precision_score(train_y, train_predictions)"
   ]
  },
  {
   "cell_type": "code",
   "execution_count": 18,
   "id": "44801554",
   "metadata": {},
   "outputs": [
    {
     "name": "stdout",
     "output_type": "stream",
     "text": [
      "Optimization terminated successfully.\n",
      "         Current function value: 0.183768\n",
      "         Iterations 10\n",
      "                           Logit Regression Results                           \n",
      "==============================================================================\n",
      "Dep. Variable:                  Delay   No. Observations:              3321424\n",
      "Model:                          Logit   Df Residuals:                  3321405\n",
      "Method:                           MLE   Df Model:                           18\n",
      "Date:                Thu, 31 Mar 2022   Pseudo R-squ.:                  0.6272\n",
      "Time:                        04:34:48   Log-Likelihood:            -6.1037e+05\n",
      "converged:                       True   LL-Null:                   -1.6373e+06\n",
      "Covariance Type:            nonrobust   LLR p-value:                     0.000\n",
      "=====================================================================================\n",
      "                        coef    std err          z      P>|z|      [0.025      0.975]\n",
      "-------------------------------------------------------------------------------------\n",
      "Month                 0.0116      0.001     15.722      0.000       0.010       0.013\n",
      "DayOfWeek             0.0205      0.001     16.037      0.000       0.018       0.023\n",
      "DayofMonth            0.0049      0.000     16.953      0.000       0.004       0.005\n",
      "CRSDepTime            0.0006   5.64e-06    113.992      0.000       0.001       0.001\n",
      "CarrierDelay          0.2329      0.000    511.016      0.000       0.232       0.234\n",
      "WeatherDelay          0.2326      0.001    190.363      0.000       0.230       0.235\n",
      "NASDelay              0.0310      0.000    234.248      0.000       0.031       0.031\n",
      "SecurityDelay         0.2296      0.004     56.805      0.000       0.222       0.238\n",
      "LateAircraftDelay     0.2854      0.001    372.334      0.000       0.284       0.287\n",
      "Origin_ATL           -4.1903      0.014   -307.953      0.000      -4.217      -4.164\n",
      "Origin_CVG           -4.3829      0.015   -288.868      0.000      -4.413      -4.353\n",
      "Origin_DEN           -4.5891      0.016   -285.395      0.000      -4.621      -4.558\n",
      "Origin_DFW           -4.3181      0.014   -310.056      0.000      -4.345      -4.291\n",
      "Origin_EWR           -4.4100      0.016   -279.835      0.000      -4.441      -4.379\n",
      "Origin_IAH           -4.7260      0.016   -304.180      0.000      -4.756      -4.696\n",
      "Origin_LAS           -3.9880      0.015   -264.736      0.000      -4.018      -3.958\n",
      "Origin_LAX           -4.3891      0.015   -297.204      0.000      -4.418      -4.360\n",
      "Origin_ORD           -4.1340      0.014   -304.690      0.000      -4.161      -4.107\n",
      "Origin_PHX           -3.9411      0.015   -270.557      0.000      -3.970      -3.913\n",
      "=====================================================================================\n"
     ]
    }
   ],
   "source": [
    "import statsmodels.api as sm\n",
    "logit_model=sm.Logit(train_y, train_x)\n",
    "result=logit_model.fit()\n",
    "print(result.summary())"
   ]
  },
  {
   "cell_type": "code",
   "execution_count": 19,
   "id": "eb9944c1",
   "metadata": {},
   "outputs": [
    {
     "data": {
      "text/plain": [
       "0.9144499892523169"
      ]
     },
     "execution_count": 19,
     "metadata": {},
     "output_type": "execute_result"
    }
   ],
   "source": [
    "from sklearn.metrics import recall_score\n",
    "recall_score(train_y, train_predictions)"
   ]
  },
  {
   "cell_type": "code",
   "execution_count": 20,
   "id": "c49a5d55",
   "metadata": {},
   "outputs": [],
   "source": [
    "probs = model.predict_proba(test_x)\n",
    "preds = probs[:,1]"
   ]
  },
  {
   "cell_type": "code",
   "execution_count": 21,
   "id": "e15ace3a",
   "metadata": {},
   "outputs": [],
   "source": [
    "from sklearn import metrics\n",
    "from sklearn.metrics import precision_score\n",
    "fpr, tpr, threshold = metrics.roc_curve(test_y, preds)\n",
    "roc_auc_arr = metrics.auc(fpr, tpr)"
   ]
  },
  {
   "cell_type": "code",
   "execution_count": 22,
   "id": "3b51da13",
   "metadata": {},
   "outputs": [
    {
     "data": {
      "image/png": "[encoded data removed]",
      "text/plain": [
       "<Figure size 432x288 with 1 Axes>"
      ]
     },
     "metadata": {
      "needs_background": "light"
     },
     "output_type": "display_data"
    }
   ],
   "source": [
    "plt.plot(fpr, tpr, 'b', label = 'AUC = %0.3f' % roc_auc_arr)\n",
    "plt.legend(loc = 'lower right')\n",
    "plt.plot([0, 1], [0, 1],'r--')\n",
    "plt.xlim([0, 1])\n",
    "plt.ylim([0, 1])\n",
    "plt.ylabel('True Positive Rate')\n",
    "plt.xlabel('False Positive Rate')\n",
    "plt.show()"
   ]
  },
  {
   "cell_type": "code",
   "execution_count": null,
   "id": "185e2073",
   "metadata": {},
   "outputs": [],
   "source": []
  }
 ],
 "metadata": {
  "kernelspec": {
   "display_name": "Python 3",
   "language": "python",
   "name": "python3"
  },
  "language_info": {
   "codemirror_mode": {
    "name": "ipython",
    "version": 3
   },
   "file_extension": ".py",
   "mimetype": "text/x-python",
   "name": "python",
   "nbconvert_exporter": "python",
   "pygments_lexer": "ipython3",
   "version": "3.8.8"
  }
 },
 "nbformat": 4,
 "nbformat_minor": 5
}
